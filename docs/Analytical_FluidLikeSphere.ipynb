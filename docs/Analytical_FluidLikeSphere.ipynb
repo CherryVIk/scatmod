{
 "cells": [
  {
   "cell_type": "markdown",
   "metadata": {},
   "source": [
    "# Weakly scattering sphere\n",
    "Asa reference model for a weakly scattering fluid-like sphere we will build the general anlytical model for a scattered wave by a sphere <cite data-cite=\"5809290/X3YGMY3E\"></cite>:  \n",
    "$$p_{scat}=p_0\\sum^{\\infty}_{n=0}A_n(2n+1)P_n (cos\\theta)h^1_n (k_w r)$$  \n",
    "with   \n",
    "\n",
    "* the range ($r$ in [m])  \n",
    "* the acoustic wavenumber in the surrounding water($k_w$)  \n",
    "* $k=\\frac{2\\pi}{\\lambda}$  \n",
    "* wavelength $\\lambda=\\frac{f}{c}$ in [m]  \n",
    "* $f$ is the frequency in $Hz =s^{-1}$  \n",
    "* $c$ is the soundspeed in $\\frac{m}{s}$)  \n",
    "* $p_0$ is the incident pressure  \n",
    "* $A_n$ is defined by the boundary conditions <cite data-cite=\"5809290/X3YGMY3E\"></cite>. For $A_n$, definitions following <cite data-cite=\"5809290/VRQJZ4YA\"></cite> were used, rather than <cite data-cite=\"5809290/X3YGMY3E\"></cite>.  \n",
    "* $P_n$ is the Legendre polynomial with degree $n$  \n",
    "* $h^1_n$ is the spherical Hankel function of the first kind or the spherical Bessel function of thrid the kind  \n",
    "* $\\theta$ is the scattering angle  \n",
    "  \n",
    "  For backscatter $\\theta=\\pi$; therefore $P_n$ becomes $P_n(-1)=(-1)^n$.  \n",
    "  \n",
    "  In the farfield \n",
    "  $$\n",
    "  \\begin{aligned}\n",
    "  k_wr \\gg 1, \\\\\n",
    "  h^1_n(k_wr) \\xrightarrow[k_wr\\gg1]{} \\frac{[(-i)^{n+1}]}{(k_wr)}e^{ik_wr}\n",
    "  \\end{aligned}\n",
    "  $$  \n",
    "  the acoustic backscatter pressure $p_{bs}$ can be expressed as a function of backscattering amplitude ($f_{bs}$, incident pressure, phase and range:  \n",
    "  $$p_{bs}=p_0 \\frac{e^{ik_w r}}{r}f_{bs}$$  \n",
    "  with the simplified $f_bs$ becoming:  \n",
    "  $$f_{bs}=-\\frac{i}{k_w}\\sum^{\\infty}_{n=0}(-1)^n(2n+1)A_n $$\n",
    "  following <cite data-cite=\"5809290/VRQJZ4YA\"></cite>, $n$ was limited to the nearest integer of $||k_wa||+20$, providing a precision of 0.1 dB.  \n",
    "  \n",
    "  From $f_bs$, target strength $TS$ in $dB \\text{ re }m^2$ can be computed as  <cite data-cite=\"5809290/X3YGMY3E\">:  \n",
    "  $$TS = 10log_{10}(|f_bs|^2)$$  \n",
    "    \n",
    "  For a fluid filled sphere, the coefficient, the coefficient $A_n$ can be computed as:  \n",
    "  $$A_n=\\frac{-1}{1+iC_n}$$  \n",
    "  and  \n",
    "  $$C_n = \\frac{\\frac{[j'_n(k_1a)y_n(ka)]}{[j_n(k_1a)j'_n(ka)]} - gh\\frac{y'_n(ka)}{j'_n(ka)}}{\\frac{[j'_n(k_1a)j_n(ka)]}{[j_n(k_1a)j'_n(ka)]}-gh}$$\n",
    "  with:  \n",
    "  \n",
    "  * $k_1$ the wavenumber inside the fluid-filled sphere  \n",
    "  * $g$ the density contrast for the density $[\\frac{kg}{m^3}]$ inside the sphere ($\\rho_t$) and in the surrounding fluid ($\\rho_w$)  \n",
    "  * $h$ the soundspeed contrast for the soundspped $[\\frac{m}{s}]$ inside the sphere ($c_t$) and in the surrounding fluid ($c_w$)  \n",
    "  * $y$ is the spherical Neumann function  \n",
    "  \n",
    "  Letting $gh \\rightarrow \\infty$ results in a rigid sphere and:  \n",
    "  $$A_n=-\\frac{j'_n(k_wa)}{h'_n(k_wa)}$$  \n",
    "  Similarly, letting $gh \\rightarrow 0$ results in a pressure release sphere and:\n",
    "  $$A_n=-\\frac{j_n(k_wa)}{h_n(k_wa)}$$  \n",
    "\n",
    "## References\n",
    "\n",
    "<div class=\"cite2c-biblio\"></div>"
   ]
  },
  {
   "cell_type": "code",
   "execution_count": null,
   "metadata": {},
   "outputs": [],
   "source": []
  }
 ],
 "metadata": {
  "cite2c": {
   "citations": {
    "5809290/VRQJZ4YA": {
     "author": [
      {
       "family": "Jech",
       "given": "J. Michael"
      },
      {
       "family": "Horne",
       "given": "John K."
      },
      {
       "family": "Chu",
       "given": "Dezhang"
      },
      {
       "family": "Demer",
       "given": "David A."
      },
      {
       "family": "Francis",
       "given": "David TI"
      },
      {
       "family": "Gorska",
       "given": "Natalia"
      },
      {
       "family": "Jones",
       "given": "Benjamin"
      },
      {
       "family": "Lavery",
       "given": "Andone C."
      },
      {
       "family": "Stanton",
       "given": "Timothy K."
      },
      {
       "family": "Macaulay",
       "given": "Gavin J."
      }
     ],
     "container-title": "The Journal of the Acoustical Society of America",
     "id": "5809290/VRQJZ4YA",
     "issue": "6",
     "issued": {
      "year": 2015
     },
     "page": "3742–3764",
     "page-first": "3742",
     "title": "Comparisons among ten models of acoustic backscattering used in aquatic ecosystem research",
     "type": "article-journal",
     "volume": "138"
    },
    "5809290/X3YGMY3E": {
     "author": [
      {
       "family": "Anderson",
       "given": "Victor C."
      }
     ],
     "container-title": "The Journal of the Acoustical Society of America",
     "id": "5809290/X3YGMY3E",
     "issue": "4",
     "issued": {
      "year": 1950
     },
     "page": "426–431",
     "page-first": "426",
     "title": "Sound scattering from a fluid sphere",
     "type": "article-journal",
     "volume": "22"
    }
   }
  },
  "kernelspec": {
   "display_name": "Python 3",
   "language": "python",
   "name": "python3"
  },
  "language_info": {
   "codemirror_mode": {
    "name": "ipython",
    "version": 3
   },
   "file_extension": ".py",
   "mimetype": "text/x-python",
   "name": "python",
   "nbconvert_exporter": "python",
   "pygments_lexer": "ipython3",
   "version": "3.7.1"
  }
 },
 "nbformat": 4,
 "nbformat_minor": 2
}
