{
 "cells": [
  {
   "cell_type": "markdown",
   "metadata": {},
   "source": [
    "## The DWBA model - a brief explanation\n",
    "A detailed description of the DWBA model and its application to the scattering properties of zooplankton can be found in  <cite data-cite=\"5809290/TG36DH8Y\"></cite><cite data-cite=\"5809290/RIDENJ7S\"></cite><cite data-cite=\"5809290/3YTMB9EQ\"></cite>  \n",
    "The DWBA for a body of an arbitrary shape and size for an arbitrary frequency can be written as:\n",
    "$$f_{bs} = \\frac{k_s}{4}\\int\\int\\int_v(\\gamma_k - \\gamma_{\\rho})e^{2i\\vec{k_b}\\vec{r_v}}dv $$  \n",
    "\n",
    "or under the simplified form for a deformed cylinder:    \n",
    "$$f_{bs} = \\frac{k_s}{4}\\int_{\\vec{r_{pos}}}a_c(\\gamma_\\kappa - \\gamma_{\\rho})e^{2i\\vec{k_b}\\vec{r_{pos}}}\\frac{J_1(2k_ba_{c}cos\\beta_{tilt})}{cos\\beta_{tilt}} $$\n",
    "where:  \n",
    "\n",
    "* $f_{bs}$ is the scattering amplitude,  \n",
    "* $k$ is the wavenumber defined as $\\frac{2\\pi}{\\lambda}$ where $\\lambda$ is the acoustic wavelength [m].  \n",
    "* $\\lambda = \\frac{f}{c}$ with freqency $f$ in [Hz] and $c$ the soundspeed in the surrounding fluid [m/s]),  \n",
    "* the subscript $s$ refers to the surrounding fluid, the subscribt $b$ refers to the scattering body,  \n",
    "* $\\vec{r_{pos}}$ is the position vector along the body axis,  \n",
    "* $v$ in the general model is the integration vloume of the body with the position vector $\\vec{r_{pos}}$  \n",
    "* $\\gamma_k$ and $\\gamma_{\\rho}$ are related to the body material properties with $g$ - the density contrast and $h$ the soundspeed contrast. Both contrasts are the ratio of the density ($\\frac{\\rho_b}{\\rho_s}$) or soundspeed ($\\frac{c_b}{c_s}$) inside the body and the surrounding fluid.  \n",
    "    + $\\gamma_k = \\frac{(1 - gh^2)}{gh^2}$ is the compressibility  \n",
    "\n",
    "    + $\\gamma_{\\rho} = \\frac{(g - 1)}{g}$  is related to the density contrast  \n",
    "    \n",
    "\n",
    "* $J_1$ is a Bessel function of the first kind and first order  \n",
    "* $\\beta_{tilt}$ is the angle between the incident wave and the target axis.  \n",
    "  \n",
    "The equation part inside the shape integral for the DWBA can be split up into three parts:  \n",
    "\n",
    "* The material properties $\\gamma_k - \\gamma_{\\rho}$\n",
    "* The phase $e^{2i\\vec{k_b}\\vec{r_v}}dv$\n",
    "* The shape (rest)\n"
   ]
  },
  {
   "cell_type": "code",
   "execution_count": null,
   "metadata": {},
   "outputs": [],
   "source": []
  }
 ],
 "metadata": {
  "cite2c": {
   "citations": {
    "5809290/3YTMB9EQ": {
     "DOI": "10.1121/1.5085655",
     "URL": "https://doi.org/10.1121/1.5085655",
     "author": [
      {
       "family": "Gastauer",
       "given": "Sven"
      },
      {
       "family": "Chu",
       "given": "Dezhang"
      },
      {
       "family": "Cox",
       "given": "Martin J."
      }
     ],
     "container-title": "The Journal of the Acoustical Society of America",
     "id": "5809290/3YTMB9EQ",
     "issue": "1",
     "issued": {
      "year": 2019
     },
     "page": "EL102-EL108",
     "page-first": "EL102",
     "title": "ZooScatR—An r package for modelling the scattering properties of weak scattering targets using the distorted wave Born approximation",
     "type": "article-journal",
     "volume": "145"
    },
    "5809290/RIDENJ7S": {
     "author": [
      {
       "family": "Calise",
       "given": "L."
      },
      {
       "family": "Skaret",
       "given": "G."
      }
     ],
     "container-title": "Ccamlr Science",
     "id": "5809290/RIDENJ7S",
     "issued": {
      "year": 2011
     },
     "page": "97–122",
     "page-first": "97",
     "title": "Sensitivity investigation of the SDWBA Antarctic krill target strength model to fatness, material contrasts and orientation",
     "type": "article-journal",
     "volume": "18"
    },
    "5809290/TG36DH8Y": {
     "author": [
      {
       "family": "Stanton",
       "given": "Timothy K."
      },
      {
       "family": "Chu",
       "given": "Dezhang"
      }
     ],
     "container-title": "ICES Journal of Marine Science",
     "id": "5809290/TG36DH8Y",
     "issue": "4",
     "issued": {
      "year": 2000
     },
     "page": "793–807",
     "page-first": "793",
     "shortTitle": "Review and recommendations for the modelling of acoustic scattering by fluid-like elongated zooplankton",
     "title": "Review and recommendations for the modelling of acoustic scattering by fluid-like elongated zooplankton: euphausiids and copepods",
     "title-short": "Review and recommendations for the modelling of acoustic scattering by fluid-like elongated zooplankton",
     "type": "article-journal",
     "volume": "57"
    }
   }
  },
  "kernelspec": {
   "display_name": "Python 3",
   "language": "python",
   "name": "python3"
  },
  "language_info": {
   "codemirror_mode": {
    "name": "ipython",
    "version": 3
   },
   "file_extension": ".py",
   "mimetype": "text/x-python",
   "name": "python",
   "nbconvert_exporter": "python",
   "pygments_lexer": "ipython3",
   "version": "3.7.1"
  }
 },
 "nbformat": 4,
 "nbformat_minor": 2
}
